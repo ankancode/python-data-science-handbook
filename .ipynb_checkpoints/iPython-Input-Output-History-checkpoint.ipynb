{
 "cells": [
  {
   "cell_type": "markdown",
   "metadata": {},
   "source": [
    "# Input and Output History"
   ]
  },
  {
   "cell_type": "markdown",
   "metadata": {},
   "source": [
    "### IPython's ``In`` and ``Out`` Objects\n",
    "\n",
    "Imagine you start a session that looks like this:\n",
    "\n",
    "```ipython\n",
    "In [1]: import math\n",
    "\n",
    "In [2]: math.sin(2)\n",
    "Out[2]: 0.9092974268256817\n",
    "\n",
    "In [3]: math.cos(2)\n",
    "Out[3]: -0.4161468365471424\n",
    "```"
   ]
  },
  {
   "cell_type": "markdown",
   "metadata": {},
   "source": [
    "IPython creates __Python variables called ``In`` and ``Out``__ that are automatically updated to reflect this history:\n",
    "\n",
    "```ipython\n",
    "In [4]: print(In)\n",
    "['', 'import math', 'math.sin(2)', 'math.cos(2)', 'print(In)']\n",
    "\n",
    "In [5]: Out\n",
    "Out[5]: {2: 0.9092974268256817, 3: -0.4161468365471424}\n",
    "```"
   ]
  },
  {
   "cell_type": "markdown",
   "metadata": {},
   "source": [
    "__``In`` is a list__ which keeps track of the commands in order (the first item in the list is a place-holder so that ``In[1]`` can refer to the first command):\n",
    "\n",
    "```ipython\n",
    "In [6]: print(In[1])\n",
    "import math\n",
    "```\n",
    "\n",
    "__``Out`` is a dictionary__ mapping input numbers to their outputs (if any):\n",
    "\n",
    "```ipython\n",
    "In [7]: print(Out[2])\n",
    "0.9092974268256817\n",
    "```\n",
    "\n",
    "Not all operations have outputs: for example, ``import`` statements and ``print`` statements don't affect the output.\n",
    "\n",
    "This may be surprising but makes sense if you consider that ``print`` is a function that returns ``None``; for brevity, any command that returns ``None`` is not added to ``Out``.\n",
    "\n",
    "This can be useful if you want to interact with past results. For example, let's check the sum of ``sin(2) ** 2`` and ``cos(2) ** 2`` using the previously-computed results. __It can become very handy if you execute a very expensive computation and want to reuse the result.__\n",
    "\n",
    "```ipython\n",
    "In [8]: Out[2] ** 2 + Out[3] ** 2\n",
    "Out[8]: 1.0\n",
    "```"
   ]
  },
  {
   "cell_type": "markdown",
   "metadata": {},
   "source": [
    "### Underscore Shortcuts and Previous Outputs\n",
    "\n",
    "The Python shell contains a shortcut for accessing previous output; the variable ``_`` (a single underscore) is kept updated with the previous output. This works in IPython as well.\n",
    "\n",
    "```ipython\n",
    "In [9]: print(_)\n",
    "1.0\n",
    "```\n",
    "\n",
    "IPython extends this idea. You can __use a double underscore to access the second-to-last output__, and __a triple underscore to access the third-to-last output__ (skipping any commands with no output):\n",
    "\n",
    "```ipython\n",
    "In [10]: print(__)\n",
    "-0.4161468365471424\n",
    "\n",
    "In [11]: print(___)\n",
    "0.9092974268256817\n",
    "```\n",
    "\n",
    "Any more than three underscores starts to get a bit hard to count. At that point it's easier to refer to the output by line number.\n",
    "\n",
    "You can also __use ``_X`` (a single underscore followed by the line number)__ as a shorthand for ``Out[X]``:\n",
    "\n",
    "```ipython\n",
    "In [12]: Out[2]\n",
    "Out[12]: 0.9092974268256817\n",
    "\n",
    "In [13]: _2\n",
    "Out[13]: 0.9092974268256817\n",
    "```"
   ]
  },
  {
   "cell_type": "markdown",
   "metadata": {},
   "source": [
    "### Suppressing Output\n",
    "\n",
    "Sometimes you want to suppress the output of a statement (most common with Matplotlib plotting commands). Or maybe the command produces a result that you'd prefer not like to store in your output history. __The easiest way to suppress the output of a command is to add a semicolon to the end of the line__.\n",
    "\n",
    "```ipython\n",
    "In [14]: math.sin(2) + math.cos(2);\n",
    "```\n",
    "\n",
    "The result is computed silently. The output is neither displayed on the screen or stored in the ``Out`` dictionary:\n",
    "\n",
    "```ipython\n",
    "In [15]: 14 in Out\n",
    "Out[15]: False\n",
    "```"
   ]
  },
  {
   "cell_type": "markdown",
   "metadata": {},
   "source": [
    "### Related Magic Commands\n",
    "\n",
    "The __``%history``__ magic command is very helpful for accessing multiple previous inputs at once:\n",
    "\n",
    "```ipython\n",
    "In [16]: %history -n 1-4\n",
    "   1: import math\n",
    "   2: math.sin(2)\n",
    "   3: math.cos(2)\n",
    "   4: print(In)\n",
    "```\n",
    "\n",
    "You can type ``%history?`` for more information.\n",
    "\n",
    "Oher similar magic commands:\n",
    "\n",
    "* __``%rerun`` (re-executes some portion of the command history)__\n",
    "* __``%save`` (saves some set of the command history to a file)__"
   ]
  }
 ],
 "metadata": {
  "anaconda-cloud": {},
  "kernelspec": {
   "display_name": "Python 3",
   "language": "python",
   "name": "python3"
  },
  "language_info": {
   "codemirror_mode": {
    "name": "ipython",
    "version": 3
   },
   "file_extension": ".py",
   "mimetype": "text/x-python",
   "name": "python",
   "nbconvert_exporter": "python",
   "pygments_lexer": "ipython3",
   "version": "3.6.4"
  }
 },
 "nbformat": 4,
 "nbformat_minor": 1
}
